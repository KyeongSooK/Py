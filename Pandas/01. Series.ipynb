{
 "cells": [
  {
   "cell_type": "markdown",
   "id": "f7fe090d-8299-4b79-8149-0edc0c2009ab",
   "metadata": {},
   "source": [
    "# Pandas\n",
    "파이썬에서 사용하는 데이터 분석 라이브러리 수정test"
   ]
  },
  {
   "cell_type": "code",
   "execution_count": 2,
   "id": "0300657f-c514-4bf3-9ca3-a35140e03d56",
   "metadata": {},
   "outputs": [],
   "source": [
    "import pandas as pd"
   ]
  },
  {
   "cell_type": "markdown",
   "id": "c3f44390-fa02-46a0-97f0-be73aebafda1",
   "metadata": {},
   "source": [
    "# 1.Series\n",
    "1차원 데이터 (정수,실수,문자열 등)"
   ]
  },
  {
   "cell_type": "markdown",
   "id": "e0acfb83-43e3-4860-8315-bd244612c4b5",
   "metadata": {},
   "source": [
    "## Series 객체 생성\n",
    "예) 1월부터 4월까지 평균 온도 데이터 (-20,-10,10,20)"
   ]
  },
  {
   "cell_type": "code",
   "execution_count": 7,
   "id": "2bc8bc60-238f-4179-8aed-2947f9ec184d",
   "metadata": {},
   "outputs": [
    {
     "data": {
      "text/plain": [
       "0   -20\n",
       "1   -10\n",
       "2    10\n",
       "3    20\n",
       "dtype: int64"
      ]
     },
     "execution_count": 7,
     "metadata": {},
     "output_type": "execute_result"
    }
   ],
   "source": [
    "temp = pd.Series([-20, -10, 10, 20])\n",
    "temp"
   ]
  },
  {
   "cell_type": "code",
   "execution_count": 8,
   "id": "46a26ff6-020b-484d-a83d-0aff188a451a",
   "metadata": {},
   "outputs": [
    {
     "data": {
      "text/plain": [
       "-20"
      ]
     },
     "execution_count": 8,
     "metadata": {},
     "output_type": "execute_result"
    }
   ],
   "source": [
    "temp[0] # 1월 온도"
   ]
  },
  {
   "cell_type": "code",
   "execution_count": 14,
   "id": "ab4f10e4-9c79-4d3d-848b-8b37948c893a",
   "metadata": {},
   "outputs": [
    {
     "data": {
      "text/plain": [
       "10"
      ]
     },
     "execution_count": 14,
     "metadata": {},
     "output_type": "execute_result"
    }
   ],
   "source": [
    "temp[2] # 3월 온도"
   ]
  },
  {
   "cell_type": "markdown",
   "id": "a4cbe8fb-528a-4760-a134-a5a41f9c23a2",
   "metadata": {},
   "source": [
    "# Series 객체 생성(index 지정)"
   ]
  },
  {
   "cell_type": "code",
   "execution_count": 19,
   "id": "2d44779f-0628-4e2b-84bd-49ebd34db26e",
   "metadata": {},
   "outputs": [
    {
     "data": {
      "text/plain": [
       "Jan   -20\n",
       "Feb   -10\n",
       "Mar    10\n",
       "Apr    20\n",
       "dtype: int64"
      ]
     },
     "execution_count": 19,
     "metadata": {},
     "output_type": "execute_result"
    }
   ],
   "source": [
    "temp = pd.Series([-20, -10, 10, 20], index=['Jan','Feb','Mar','Apr'])\n",
    "temp"
   ]
  },
  {
   "cell_type": "code",
   "execution_count": 20,
   "id": "8add721a-0a2b-4970-b6ec-f684aedfd3a8",
   "metadata": {},
   "outputs": [
    {
     "data": {
      "text/plain": [
       "-20"
      ]
     },
     "execution_count": 20,
     "metadata": {},
     "output_type": "execute_result"
    }
   ],
   "source": [
    "temp['Jan'] # index Jan(1월) 에 해당하는 데이터 출력"
   ]
  },
  {
   "cell_type": "code",
   "execution_count": 22,
   "id": "7969df27-90e2-4c48-b42d-c30ca8da7ce6",
   "metadata": {},
   "outputs": [
    {
     "data": {
      "text/plain": [
       "20"
      ]
     },
     "execution_count": 22,
     "metadata": {},
     "output_type": "execute_result"
    }
   ],
   "source": [
    "temp['Apr'] # index Jan(3월) 에 해당하는 데이터 출력"
   ]
  },
  {
   "cell_type": "code",
   "execution_count": null,
   "id": "98f95235-d6d6-484a-8f39-50a5e934584e",
   "metadata": {},
   "outputs": [],
   "source": []
  }
 ],
 "metadata": {
  "kernelspec": {
   "display_name": "Python 3 (ipykernel)",
   "language": "python",
   "name": "python3"
  },
  "language_info": {
   "codemirror_mode": {
    "name": "ipython",
    "version": 3
   },
   "file_extension": ".py",
   "mimetype": "text/x-python",
   "name": "python",
   "nbconvert_exporter": "python",
   "pygments_lexer": "ipython3",
   "version": "3.11.7"
  }
 },
 "nbformat": 4,
 "nbformat_minor": 5
}
